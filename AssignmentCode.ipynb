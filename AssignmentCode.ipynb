{
 "cells": [
  {
   "cell_type": "code",
   "execution_count": 1,
   "id": "81333930",
   "metadata": {},
   "outputs": [],
   "source": [
    "import numpy as np\n",
    "import matplotlib.pyplot as plt\n",
    "from matplotlib.colors import LogNorm\n",
    "import random as rand\n",
    "from collections import deque as queue\n",
    "import time\n",
    "from guppy import hpy"
   ]
  },
  {
   "cell_type": "markdown",
   "id": "367dcbca",
   "metadata": {},
   "source": [
    "Above we generate a array of fixed size 5x5 and fill it with zeros, which indicate a free space.\n",
    "below we randomly generate 5 position and make them obstacles denoted by the integer 1"
   ]
  },
  {
   "cell_type": "code",
   "execution_count": 2,
   "id": "8a2d45f3",
   "metadata": {},
   "outputs": [],
   "source": [
    "BinaryMat = np.zeros((5,5))\n",
    "CostArr = np.zeros((5,5))\n",
    "global count \n",
    "count = 0\n",
    "leng = len(BinaryMat)\n",
    "h = hpy()\n",
    "begin = time.time()"
   ]
  },
  {
   "cell_type": "code",
   "execution_count": 3,
   "id": "0d4ff91f",
   "metadata": {},
   "outputs": [],
   "source": [
    "\n",
    "while(count != 4):\n",
    "    x = rand.randrange(leng)\n",
    "    y = rand.randrange(leng)\n",
    "    BinaryMat[x,y] = 1\n",
    "    count = count +1\n"
   ]
  },
  {
   "cell_type": "code",
   "execution_count": 4,
   "id": "ab166921",
   "metadata": {},
   "outputs": [
    {
     "name": "stdout",
     "output_type": "stream",
     "text": [
      "[[0. 0. 0. 1. 0.]\n",
      " [1. 0. 0. 0. 0.]\n",
      " [0. 0. 0. 1. 0.]\n",
      " [0. 0. 0. 0. 0.]\n",
      " [0. 0. 0. 0. 0.]]\n"
     ]
    }
   ],
   "source": [
    "print(BinaryMat)"
   ]
  },
  {
   "cell_type": "code",
   "execution_count": null,
   "id": "86cf8dbf",
   "metadata": {},
   "outputs": [],
   "source": []
  },
  {
   "cell_type": "code",
   "execution_count": 5,
   "id": "c95da947",
   "metadata": {},
   "outputs": [
    {
     "name": "stdout",
     "output_type": "stream",
     "text": [
      "[[4. 8. 4. 6. 6.]\n",
      " [5. 6. 4. 7. 7.]\n",
      " [3. 3. 7. 6. 2.]\n",
      " [2. 5. 5. 6. 7.]\n",
      " [3. 5. 5. 6. 6.]]\n"
     ]
    }
   ],
   "source": [
    "for i in range(len(CostArr)):\n",
    "    for j in range(len(CostArr)):\n",
    "        CostArr[i][j] = rand.randrange(1,9)\n",
    "print(CostArr)"
   ]
  },
  {
   "cell_type": "markdown",
   "id": "ce4fe6a5",
   "metadata": {},
   "source": [
    "Search functions that are gloabl "
   ]
  },
  {
   "cell_type": "code",
   "execution_count": 6,
   "id": "66fbd461",
   "metadata": {},
   "outputs": [],
   "source": [
    "Dx = [-1, 1 ,0 ,0] #the first four values are the directional movement the last is the cost\n",
    "Dy = [0, 0 ,-1 ,1]\n",
    "\n",
    "visited = [] # registers visted nodes. \n",
    "q=[] # queue array to store the next node \n",
    "que = []\n",
    "visit =[]\n",
    "v= []\n",
    "visited =[[ False for i in range(4)] for i in range(4)]\n",
    "visit =[[ False for i in range(5)] for i in range(5)]\n",
    "v =[[ False for i in range(5)] for i in range(5)]\n",
    "PathCost = 0"
   ]
  },
  {
   "cell_type": "code",
   "execution_count": 7,
   "id": "79b70a7a",
   "metadata": {},
   "outputs": [],
   "source": [
    "def BFS(grid, visit, x, y , Gx, Gy):\n",
    "    \n",
    "    \n",
    "    visit[x][y] = True ## marks the current node as visited\n",
    "  \n",
    "                \n",
    "    for i in range(4):\n",
    "        adjx = x +Dx[i]            #find the next two nodes\n",
    "        adjy = y +Dy[i]\n",
    "        if (adjx < 4 and adjx > 0 and adjy < 4 and adjy > 0 and grid[adjx][adjy] != 1):  #checks theyre valid\n",
    "            q.append(adjx) #adds them to the queue\n",
    "            q.append(adjy)\n",
    "\n",
    "            visit[adjx][adjy] = True\n",
    "    if(len(q)!= 0): \n",
    "            adjx = q.pop(0)   #assigns them to the next node to search \n",
    "            adjy = q.pop(0)\n",
    "\n",
    "\n",
    "    if(adjx == Gx and adjy == Gy):        #checks if theyre the goal \n",
    "        visit[adjx][adjy] = True\n",
    "        return( print(\"Goal reached\"),\n",
    "                print(\"Path = \", visited),   # not correct\n",
    "                print(\"iterations = \" ,len(visited)))\n",
    "    else:\n",
    "        plt.imshow(BinaryMat, cmap ='Greys', alpha=0.2)\n",
    "\n",
    "        plt.imshow(visited, cmap='Greens_r', alpha=0.7)\n",
    "        plt.show()\n",
    "        BFS(BinaryMat, visited, adjx,adjy, Gx, Gy )   # if not goal go again with new starting points"
   ]
  },
  {
   "cell_type": "code",
   "execution_count": 8,
   "id": "800f86c3",
   "metadata": {},
   "outputs": [
    {
     "data": {
      "image/png": "[encoded data removed]",
      "text/plain": [
       "<Figure size 432x288 with 1 Axes>"
      ]
     },
     "metadata": {
      "needs_background": "light"
     },
     "output_type": "display_data"
    },
    {
     "data": {
      "image/png": "[encoded data removed]",
      "text/plain": [
       "<Figure size 432x288 with 1 Axes>"
      ]
     },
     "metadata": {
      "needs_background": "light"
     },
     "output_type": "display_data"
    },
    {
     "data": {
      "image/png": "[encoded data removed]",
      "text/plain": [
       "<Figure size 432x288 with 1 Axes>"
      ]
     },
     "metadata": {
      "needs_background": "light"
     },
     "output_type": "display_data"
    },
    {
     "data": {
      "image/png": "[encoded data removed]",
      "text/plain": [
       "<Figure size 432x288 with 1 Axes>"
      ]
     },
     "metadata": {
      "needs_background": "light"
     },
     "output_type": "display_data"
    },
    {
     "data": {
      "image/png": "[encoded data removed]",
      "text/plain": [
       "<Figure size 432x288 with 1 Axes>"
      ]
     },
     "metadata": {
      "needs_background": "light"
     },
     "output_type": "display_data"
    },
    {
     "data": {
      "image/png": "[encoded data removed]",
      "text/plain": [
       "<Figure size 432x288 with 1 Axes>"
      ]
     },
     "metadata": {
      "needs_background": "light"
     },
     "output_type": "display_data"
    },
    {
     "name": "stdout",
     "output_type": "stream",
     "text": [
      "Goal reached\n",
      "Path =  [[True, True, False, False], [False, True, True, True], [False, True, True, False], [False, True, True, False]]\n",
      "iterations =  4\n"
     ]
    }
   ],
   "source": [
    "\n",
    "BFS(BinaryMat, visited, 0,0 , 2,2)\n"
   ]
  },
  {
   "cell_type": "code",
   "execution_count": 9,
   "id": "c4063910",
   "metadata": {},
   "outputs": [],
   "source": [
    "def DFS(grid, visit, x,y, gx,gy):\n",
    "   \n",
    " stack = []\n",
    " stack.append([x,y])\n",
    " visit[x][y] = True\n",
    " print(x , ' ', y ,' ' )\n",
    " #while(len(stack) != 0):\n",
    " curr = stack[len(stack) -1]\n",
    "\n",
    " x = curr[0]\n",
    " y = curr[1]\n",
    " print(x , ' ', y ,' ', len(stack) )\n",
    "\n",
    "\n",
    " for i in range(4):\n",
    "     adjx = x + Dx[i]\n",
    "     adjy = y + Dy[i]\n",
    "\n",
    "     if (adjx < 4 and adjx > 0 and adjy < 4 and adjy > 0 and visit[adjx][adjy] != True \n",
    "         and grid[adjx][adjy] != 1):\n",
    "            stack.pop()\n",
    "            stack.append([adjx,adjy])\n",
    "            x = adjx\n",
    "            y =adjy\n",
    "            print(adjx,adjy)\n",
    " print(stack)\n",
    " if(adjx == gx and adjy == gy):        #checks if theyre the goal \n",
    "        visit[gx][gy] = True\n",
    "        print(\"goal reached\")\n",
    " else:\n",
    "     plt.imshow(BinaryMat, cmap ='Greys', alpha=0.2)\n",
    "\n",
    "     plt.imshow(visit, cmap='Greens_r', alpha=0.7)\n",
    "     plt.show()\n",
    "     DFS(grid, visit, adjx, adjy, gx, gy)"
   ]
  },
  {
   "cell_type": "code",
   "execution_count": 10,
   "id": "04e138b3",
   "metadata": {},
   "outputs": [
    {
     "name": "stdout",
     "output_type": "stream",
     "text": [
      "0   0  \n",
      "0   0   1\n",
      "[[0, 0]]\n"
     ]
    },
    {
     "data": {
      "image/png": "[encoded data removed]",
      "text/plain": [
       "<Figure size 432x288 with 1 Axes>"
      ]
     },
     "metadata": {
      "needs_background": "light"
     },
     "output_type": "display_data"
    },
    {
     "name": "stdout",
     "output_type": "stream",
     "text": [
      "0   1  \n",
      "0   1   1\n",
      "1 1\n",
      "1 2\n",
      "[[1, 2]]\n"
     ]
    },
    {
     "data": {
      "image/png": "[encoded data removed]",
      "text/plain": [
       "<Figure size 432x288 with 1 Axes>"
      ]
     },
     "metadata": {
      "needs_background": "light"
     },
     "output_type": "display_data"
    },
    {
     "name": "stdout",
     "output_type": "stream",
     "text": [
      "1   2  \n",
      "1   2   1\n",
      "2 2\n",
      "2 1\n",
      "2 2\n",
      "[[2, 2]]\n",
      "goal reached\n"
     ]
    }
   ],
   "source": [
    "\n",
    "\n",
    "DFS(BinaryMat,visit,  0,0 , 2,2)"
   ]
  },
  {
   "cell_type": "markdown",
   "id": "8b7cf39b",
   "metadata": {},
   "source": [
    "My implmentation of DFS never seemed to be able to break a loop although I know others managed to get this working "
   ]
  },
  {
   "cell_type": "code",
   "execution_count": 11,
   "id": "a61a2716",
   "metadata": {},
   "outputs": [],
   "source": [
    "#UCS\n",
    "\n",
    "def UCS(grid, v, x, y , Gx, Gy, pathcost):\n",
    "    #global count \n",
    "   # count = count +1\n",
    "    cost = [] \n",
    "   # print(x,y)\n",
    "\n",
    "    \n",
    "    v[x][y] = True ## marks the current node as visited\n",
    "    pathcost = pathcost + CostArr[x][y]\n",
    "    #print('this is path cost at the start ', pathcost)            \n",
    "    for i in range(4):\n",
    "        adjx = x +Dx[i]            #find the next two nodes\n",
    "        adjy = y +Dy[i]\n",
    "        if (adjx < 4 and adjx > 0 and adjy < 4 and adjy > 0 and grid[adjx][adjy] != 1):#checks theyre valid\n",
    "                que.append((adjx,adjy))\n",
    "                temp = CostArr[adjx][adjy]\n",
    "                cost.append(temp)  \n",
    "                print('queue = ',que)\n",
    "    if (len(cost) > 1 and len(que) > 1):\n",
    "        for i in range(len(cost)):\n",
    "           # print(cost[i], ' vs ' , cost[i-1])\n",
    "            if (cost[i] <= cost [i-1]and i != 0 ):\n",
    "                print(que)\n",
    "                adjx,adjy = que.pop(i)\n",
    "            elif(cost[i] > cost[i-1] and i != 0):\n",
    "               # print(que[i-1])\n",
    "                adjx,adjy = que.pop(i-1)\n",
    "    elif(len(que) == 1):\n",
    "        adjx,adjy = que.pop()\n",
    "                \n",
    "    if(adjx == Gx and adjy == Gy):        #checks if theyre the goal \n",
    "        v[adjx][adjy] = True\n",
    "        return( print(\"Goal reached\"),\n",
    "                print(\"Path = \", visited),   # not correct\n",
    "                print(\"iterations = \" ),\n",
    "                print(\"cost of path = \", pathcost))\n",
    "    else:\n",
    "        plt.imshow(BinaryMat, cmap ='Greys', alpha=0.2)\n",
    "\n",
    "        plt.imshow(v, cmap='Greens_r', alpha=0.7)\n",
    "        plt.show()\n",
    "        print(len(cost))\n",
    "        print('path cost is equal to ', pathcost, ' x adn y = ' , adjx, adjy)\n",
    "        UCS(BinaryMat, visit, adjx,adjy, Gx, Gy, pathcost )   # if not goal go again with new starting points"
   ]
  },
  {
   "cell_type": "code",
   "execution_count": 12,
   "id": "1dfc1bbc",
   "metadata": {
    "scrolled": false
   },
   "outputs": [
    {
     "data": {
      "image/png": "[encoded data removed]",
      "text/plain": [
       "<Figure size 432x288 with 1 Axes>"
      ]
     },
     "metadata": {
      "needs_background": "light"
     },
     "output_type": "display_data"
    },
    {
     "name": "stdout",
     "output_type": "stream",
     "text": [
      "0\n",
      "path cost is equal to  4.0  x adn y =  0 1\n",
      "queue =  [(1, 1)]\n"
     ]
    },
    {
     "data": {
      "image/png": "[encoded data removed]",
      "text/plain": [
       "<Figure size 432x288 with 1 Axes>"
      ]
     },
     "metadata": {
      "needs_background": "light"
     },
     "output_type": "display_data"
    },
    {
     "name": "stdout",
     "output_type": "stream",
     "text": [
      "1\n",
      "path cost is equal to  12.0  x adn y =  1 1\n",
      "queue =  [(2, 1)]\n",
      "queue =  [(2, 1), (1, 2)]\n"
     ]
    },
    {
     "data": {
      "image/png": "[encoded data removed]",
      "text/plain": [
       "<Figure size 432x288 with 1 Axes>"
      ]
     },
     "metadata": {
      "needs_background": "light"
     },
     "output_type": "display_data"
    },
    {
     "name": "stdout",
     "output_type": "stream",
     "text": [
      "2\n",
      "path cost is equal to  18.0  x adn y =  2 1\n",
      "queue =  [(1, 2), (1, 1)]\n",
      "queue =  [(1, 2), (1, 1), (3, 1)]\n",
      "queue =  [(1, 2), (1, 1), (3, 1), (2, 2)]\n",
      "[(1, 2), (1, 1), (3, 1), (2, 2)]\n"
     ]
    },
    {
     "data": {
      "image/png": "[encoded data removed]",
      "text/plain": [
       "<Figure size 432x288 with 1 Axes>"
      ]
     },
     "metadata": {
      "needs_background": "light"
     },
     "output_type": "display_data"
    },
    {
     "name": "stdout",
     "output_type": "stream",
     "text": [
      "3\n",
      "path cost is equal to  21.0  x adn y =  3 1\n",
      "queue =  [(1, 2), (2, 2), (2, 1)]\n",
      "queue =  [(1, 2), (2, 2), (2, 1), (3, 2)]\n"
     ]
    },
    {
     "data": {
      "image/png": "[encoded data removed]",
      "text/plain": [
       "<Figure size 432x288 with 1 Axes>"
      ]
     },
     "metadata": {
      "needs_background": "light"
     },
     "output_type": "display_data"
    },
    {
     "name": "stdout",
     "output_type": "stream",
     "text": [
      "2\n",
      "path cost is equal to  26.0  x adn y =  1 2\n",
      "queue =  [(2, 2), (2, 1), (3, 2), (2, 2)]\n",
      "queue =  [(2, 2), (2, 1), (3, 2), (2, 2), (1, 1)]\n",
      "queue =  [(2, 2), (2, 1), (3, 2), (2, 2), (1, 1), (1, 3)]\n",
      "[(2, 2), (2, 1), (3, 2), (2, 2), (1, 1), (1, 3)]\n"
     ]
    },
    {
     "data": {
      "image/png": "[encoded data removed]",
      "text/plain": [
       "<Figure size 432x288 with 1 Axes>"
      ]
     },
     "metadata": {
      "needs_background": "light"
     },
     "output_type": "display_data"
    },
    {
     "name": "stdout",
     "output_type": "stream",
     "text": [
      "3\n",
      "path cost is equal to  30.0  x adn y =  3 2\n",
      "queue =  [(2, 2), (2, 2), (1, 1), (1, 3), (2, 2)]\n",
      "queue =  [(2, 2), (2, 2), (1, 1), (1, 3), (2, 2), (3, 1)]\n",
      "queue =  [(2, 2), (2, 2), (1, 1), (1, 3), (2, 2), (3, 1), (3, 3)]\n",
      "[(2, 2), (2, 2), (1, 1), (1, 3), (2, 2), (3, 1), (3, 3)]\n"
     ]
    },
    {
     "data": {
      "image/png": "[encoded data removed]",
      "text/plain": [
       "<Figure size 432x288 with 1 Axes>"
      ]
     },
     "metadata": {
      "needs_background": "light"
     },
     "output_type": "display_data"
    },
    {
     "name": "stdout",
     "output_type": "stream",
     "text": [
      "3\n",
      "path cost is equal to  35.0  x adn y =  1 1\n",
      "queue =  [(2, 2), (1, 3), (2, 2), (3, 1), (3, 3), (2, 1)]\n",
      "queue =  [(2, 2), (1, 3), (2, 2), (3, 1), (3, 3), (2, 1), (1, 2)]\n",
      "Goal reached\n",
      "Path =  [[True, True, False, False], [False, True, True, True], [False, True, True, False], [False, True, True, False]]\n",
      "iterations = \n",
      "cost of path =  41.0\n"
     ]
    }
   ],
   "source": [
    "UCS(BinaryMat,v,  0,0 , 2,2,0)"
   ]
  },
  {
   "cell_type": "markdown",
   "id": "42ea0bdd",
   "metadata": {},
   "source": [
    "the following codes are the same functions but with the visited recognition removed as a tree does not record what it has visited"
   ]
  },
  {
   "cell_type": "code",
   "execution_count": 13,
   "id": "6094cf54",
   "metadata": {},
   "outputs": [
    {
     "name": "stdout",
     "output_type": "stream",
     "text": [
      "Total time taken = 2.354504108428955\n",
      "Partition of a set of 454367 objects. Total size = 56999620 bytes.\n",
      " Index  Count   %     Size   % Cumulative  % Referrers by Kind (class / dict of class)\n",
      "     0 119583  26  9549723  17   9549723  17 types.CodeType\n",
      "     1  59110  13  8179754  14  17729477  31 function\n",
      "     2  71496  16  5029020   9  22758497  40 tuple\n",
      "     3  10195   2  4273980   7  27032477  47 function, tuple\n",
      "     4  30116   7  3920383   7  30952860  54 dict of type\n",
      "     5  32568   7  3498117   6  34450977  60 dict (no owner)\n",
      "     6  12417   3  2627368   5  37078345  65 type\n",
      "     7  11948   3  2472013   4  39550358  69 dict of module\n",
      "     8  27822   6  1994725   3  41545083  73 list\n",
      "     9    859   0  1317304   2  42862387  75 function, module\n",
      "<3422 more rows. Type e.g. '_.more' to view.>\n"
     ]
    }
   ],
   "source": [
    "time.sleep(1)\n",
    "end = time.time()\n",
    "print(f\"Total time taken = {end - begin}\")\n",
    "h = h.heap()\n",
    "print( h.byrcs)"
   ]
  },
  {
   "cell_type": "markdown",
   "id": "0d7ce5d4",
   "metadata": {},
   "source": [
    "def BFS_tree(grid, x, y , Gx, Gy):\n",
    "    \n",
    "    \n",
    "  \n",
    "  \n",
    "                \n",
    "    for i in range(4):\n",
    "        adjx = x +Dx[i]            #find the next two nodes\n",
    "        adjy = y +Dy[i]\n",
    "        if (adjx < 4 and adjx > 0 and adjy < 4 and adjy > 0):  #checks theyre valid\n",
    "            q.append(adjx) #adds them to the queue\n",
    "            q.append(adjy)\n",
    "\n",
    "           \n",
    "    if(len(q)!= 0): \n",
    "            adjx = q.pop(0)   #assigns them to the next node to search \n",
    "            adjy = q.pop(0)\n",
    "\n",
    "\n",
    "    if(adjx == Gx and adjy == Gy):        #checks if theyre the goal \n",
    "       \n",
    "        return( print(\"Goal reached\"),   # not correct\n",
    "                print(\"iterations = \" ,len(visited)))\n",
    "    else:\n",
    "\n",
    "        BFS_tree(BinaryMat, adjx,adjy, Gx, Gy )   # if not goal go again with new starting points\n",
    "        \n",
    "def DFS_tree(grid,x,y, gx,gy):\n",
    "   \n",
    " stack = []\n",
    " stack.append([x,y])\n",
    " \n",
    " print(x , ' ', y ,' ' )\n",
    " #while(len(stack) != 0):\n",
    " curr = stack[len(stack) -1]\n",
    "\n",
    " x = curr[0]\n",
    " y = curr[1]\n",
    " print(x , ' ', y ,' ', len(stack) )\n",
    "\n",
    "\n",
    " for i in range(4):\n",
    "     adjx = x + Dx[i]\n",
    "     adjy = y + Dy[i]\n",
    "\n",
    "     if (adjx < 4 and adjx > 0 and adjy < 4 and adjy > 0 ):\n",
    "            stack.pop()\n",
    "            stack.append([adjx,adjy])\n",
    "            x = adjx\n",
    "            y =adjy\n",
    "            print(adjx,adjy)\n",
    " print(stack)\n",
    " if(adjx == gx and adjy == gy):        #checks if theyre the goal \n",
    "       \n",
    "        print(\"goal reached\")\n",
    " else:\n",
    "     DFS_tree(grid,  adjx, adjy, gx, gy)   \n",
    "        #UCS\n",
    "\n",
    "def UCS_tree(grid,  x, y , Gx, Gy, pathcost):\n",
    "    #global count \n",
    "   # count = count +1\n",
    "    cost = [] \n",
    "   # print(x,y)\n",
    "\n",
    "    \n",
    "    pathcost = pathcost + CostArr[x][y]\n",
    "    #print('this is path cost at the start ', pathcost)            \n",
    "    for i in range(4):\n",
    "        adjx = x +Dx[i]            #find the next two nodes\n",
    "        adjy = y +Dy[i]\n",
    "        if (adjx < 4 and adjx > 0 and adjy < 4 and adjy > 0):#checks theyre valid\n",
    "                que.append((adjx,adjy))\n",
    "                temp = CostArr[adjx][adjy]\n",
    "                cost.append(temp)  \n",
    "                print('queue = ',que)\n",
    "    if (len(cost) > 1 and len(que) > 1):\n",
    "        for i in range(len(cost)):\n",
    "           # print(cost[i], ' vs ' , cost[i-1])\n",
    "            if (cost[i] <= cost [i-1]and i != 0 ):\n",
    "                print(que)\n",
    "                adjx,adjy = que.pop(i)\n",
    "            elif(cost[i] > cost[i-1] and i != 0):\n",
    "               # print(que[i-1])\n",
    "                adjx,adjy = que.pop(i-1)\n",
    "    elif(len(que) == 1):\n",
    "        adjx,adjy = que.pop()\n",
    "                \n",
    "    if(adjx == Gx and adjy == Gy):        #checks if theyre the goal \n",
    "       \n",
    "        return( print(\"Goal reached\"), # not correct\n",
    "                print(\"iterations = \" ),\n",
    "                print(\"cost of path = \", pathcost))\n",
    "    else:\n",
    "        print(len(cost))\n",
    "        print('path cost is equal to ', pathcost, ' x adn y = ' , adjx, adjy)\n",
    "        UCS_tree(BinaryMat, adjx,adjy, Gx, Gy, pathcost )   # if not goal go again with new starting points"
   ]
  },
  {
   "cell_type": "code",
   "execution_count": null,
   "id": "f6a92408",
   "metadata": {},
   "outputs": [],
   "source": []
  }
 ],
 "metadata": {
  "kernelspec": {
   "display_name": "Python 3 (ipykernel)",
   "language": "python",
   "name": "python3"
  },
  "language_info": {
   "codemirror_mode": {
    "name": "ipython",
    "version": 3
   },
   "file_extension": ".py",
   "mimetype": "text/x-python",
   "name": "python",
   "nbconvert_exporter": "python",
   "pygments_lexer": "ipython3",
   "version": "3.9.7"
  }
 },
 "nbformat": 4,
 "nbformat_minor": 5
}
